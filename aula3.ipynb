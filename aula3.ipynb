{
 "cells": [
  {
   "cell_type": "markdown",
   "metadata": {},
   "source": [
    "# Exercícios de fixação I"
   ]
  },
  {
   "cell_type": "markdown",
   "metadata": {},
   "source": [
    "## Questão 1: \n",
    "\n",
    "Você deseja criar um numpy array com 10 espaços, e depois preenchê-los com 10 valores para poder calcular o desvio padrão usando o método do numpy. Para fazer isso sem usar uma lista, você pode:\n",
    "\n",
    "**a. Criar um array de zeros usando o comando np.zeros(10), e utilizar um for para preenchê-lo**\n",
    "\n",
    "b. Criar um array vazio usando o np.array() e depois fazer append dos dados\n",
    "\n",
    "c. Criar um array de \"uns\" usando o comando np.ones(10) e depois preencher o array igualando-o ele a uma lista\n",
    "\n",
    "d. Criar um array de zeros usando o comando np.zeros(9), pois a contagem começa no zero, e usar um for para preenchê-lo"
   ]
  },
  {
   "cell_type": "code",
   "execution_count": 7,
   "metadata": {},
   "outputs": [
    {
     "data": {
      "text/plain": [
       "array([0., 0., 0., 0., 0., 0., 0., 0., 0., 0.])"
      ]
     },
     "execution_count": 7,
     "metadata": {},
     "output_type": "execute_result"
    }
   ],
   "source": [
    "import numpy as np\n",
    "\n",
    "lista = np.zeros(10)\n",
    "lista"
   ]
  },
  {
   "cell_type": "markdown",
   "metadata": {},
   "source": [
    "## Questão 2: \n",
    "\n",
    "Juliana está corrigindo provas de seus alunos e para isso salva as notas em uma lista. Além de calcular a média da turma, Juliana também precisa determinar de forma rápida quem está acima e abaixo da média do colégio, e, para fazer isso de forma rápida, decidiu criar um array para auxiliá-la. A partir da lista de notas, como Juliana pode criar esse array?\n",
    "\n",
    "**a. Utilizando o comando np.array(lista)**\n",
    "\n",
    "b. Utilizando a função np.to_array(lista)\n",
    "\n",
    "c. Utilizando a função Array(lista)\n",
    "\n",
    "d. Utilizando a função np.list_to_array(lista)"
   ]
  },
  {
   "cell_type": "code",
   "execution_count": 8,
   "metadata": {},
   "outputs": [
    {
     "data": {
      "text/plain": [
       "array([ 5,  6,  7,  8,  9, 10,  1,  2,  3,  4])"
      ]
     },
     "execution_count": 8,
     "metadata": {},
     "output_type": "execute_result"
    }
   ],
   "source": [
    "lista = [5, 6, 7, 8, 9, 10, 1, 2, 3, 4]\n",
    "lista_np = np.array(lista)\n",
    "lista_np"
   ]
  }
 ],
 "metadata": {
  "kernelspec": {
   "display_name": "ada_trilha_digital_data_science",
   "language": "python",
   "name": "python3"
  },
  "language_info": {
   "codemirror_mode": {
    "name": "ipython",
    "version": 3
   },
   "file_extension": ".py",
   "mimetype": "text/x-python",
   "name": "python",
   "nbconvert_exporter": "python",
   "pygments_lexer": "ipython3",
   "version": "3.12.3"
  }
 },
 "nbformat": 4,
 "nbformat_minor": 2
}

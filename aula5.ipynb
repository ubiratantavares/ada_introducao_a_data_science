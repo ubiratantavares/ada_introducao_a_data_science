{
 "cells": [
  {
   "cell_type": "markdown",
   "metadata": {},
   "source": [
    "# Exercícios de fixação II"
   ]
  },
  {
   "cell_type": "markdown",
   "metadata": {},
   "source": [
    "## Questão 1: Um estagiário está começando a trabalhar com Numpy. No meio dos tutoriais encontra menções a algo chamado máscara booleana. O conceito não ficou muito claro para ele, e ele pede a sua ajuda para explicar o que é esse recurso no numpy. Assinale a alternativa que explica o que é uma máscara booleana:\n",
    "\n",
    "a. É uma maneira de indexar objetos no numpy, que funciona de maneira similar a um dicionário\n",
    "\n",
    "**b. É uma maneira de indexar objetos no numpy, que funciona de maneira similar a um filtro, que pode ser simples ou composto**\n",
    "\n",
    "c. É uma maneira de indexar objetos no numpy, que funciona de maneira similar a um filtro, a filtragem deve ser simples\n",
    "\n",
    "d. É uma ferramenta do numpy para disfarçar variáveis False e fingir que são True, apenas por um periodo no código"
   ]
  },
  {
   "cell_type": "markdown",
   "metadata": {},
   "source": [
    "## Questão 2: Em uma escola, a média para aprovação é 7. As notas dos alunos estão armazenadas em um array chamado 'notas'. Escolha a expressão que pega 'notas' e salva em 'aprovados' um outro array booleano, com valor true apenas para as pessoas que passaram de ano:\n",
    "\n",
    "**a. aprovados = notas >= 7**\n",
    "\n",
    "b. aprovados = notas > 7\n",
    "\n",
    "c. aprovados <- notas >= 7\n",
    "\n",
    "d. aprovados = notas[notas >= 7]"
   ]
  }
 ],
 "metadata": {
  "language_info": {
   "name": "python"
  }
 },
 "nbformat": 4,
 "nbformat_minor": 2
}

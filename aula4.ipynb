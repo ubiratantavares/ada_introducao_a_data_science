{
 "cells": [
  {
   "cell_type": "markdown",
   "metadata": {},
   "source": [
    "# Máscara Booleana"
   ]
  },
  {
   "cell_type": "code",
   "execution_count": 7,
   "metadata": {},
   "outputs": [],
   "source": [
    "import numpy as np"
   ]
  },
  {
   "cell_type": "code",
   "execution_count": 8,
   "metadata": {},
   "outputs": [],
   "source": [
    "is_covid_positive = np.array(['Yes', 'No', 'Yes', 'Yes', 'No'])"
   ]
  },
  {
   "cell_type": "code",
   "execution_count": 9,
   "metadata": {},
   "outputs": [
    {
     "data": {
      "text/plain": [
       "array([ True, False,  True,  True, False])"
      ]
     },
     "execution_count": 9,
     "metadata": {},
     "output_type": "execute_result"
    }
   ],
   "source": [
    "mask = is_covid_positive ==  'Yes'\n",
    "mask"
   ]
  },
  {
   "cell_type": "code",
   "execution_count": 10,
   "metadata": {},
   "outputs": [
    {
     "name": "stdout",
     "output_type": "stream",
     "text": [
      "['Yes' 'Yes' 'Yes']\n"
     ]
    }
   ],
   "source": [
    "print(is_covid_positive[mask]) "
   ]
  },
  {
   "cell_type": "code",
   "execution_count": 11,
   "metadata": {},
   "outputs": [],
   "source": [
    "is_covid_positive[mask] = 'Y'"
   ]
  },
  {
   "cell_type": "code",
   "execution_count": 16,
   "metadata": {},
   "outputs": [
    {
     "name": "stdout",
     "output_type": "stream",
     "text": [
      "[ True False False  True  True  True False]\n",
      "[ 7.  8.  9. 10.]\n",
      "[5. 6.]\n",
      "[2.]\n"
     ]
    }
   ],
   "source": [
    "notas = np.array([7., 5., 6., 8., 9., 10., 2.])\n",
    "\n",
    "aprovacao = notas > 6.\n",
    "print(aprovacao)\n",
    "\n",
    "recuperacao = ((notas >= 4.) & (notas <= 6.))\n",
    "reprovado = notas < 4.\n",
    "\n",
    "notas_aprovadas = notas[aprovacao]\n",
    "notas_recuperadas = notas[recuperacao]\n",
    "notas_reprovadas = notas[reprovado]\n",
    "\n",
    "print(notas_aprovadas)\n",
    "print(notas_recuperadas)\n",
    "print(notas_reprovadas)"
   ]
  }
 ],
 "metadata": {
  "kernelspec": {
   "display_name": "ada_trilha_digital_data_science",
   "language": "python",
   "name": "python3"
  },
  "language_info": {
   "codemirror_mode": {
    "name": "ipython",
    "version": 3
   },
   "file_extension": ".py",
   "mimetype": "text/x-python",
   "name": "python",
   "nbconvert_exporter": "python",
   "pygments_lexer": "ipython3",
   "version": "3.12.3"
  }
 },
 "nbformat": 4,
 "nbformat_minor": 2
}
